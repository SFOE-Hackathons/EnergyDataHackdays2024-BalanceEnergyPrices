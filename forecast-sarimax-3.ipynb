{
 "cells": [
  {
   "cell_type": "code",
   "execution_count": null,
   "id": "846a9e35-96bf-4143-85f6-88f57ff58787",
   "metadata": {},
   "outputs": [],
   "source": [
    "# %pip install pandas matplotlib seaborn scikit-learn statsmodels\n",
    "import pandas as pd\n",
    "import matplotlib.pyplot as plt\n",
    "import seaborn as sns\n",
    "from statsmodels.tsa.seasonal import seasonal_decompose\n",
    "from sklearn.model_selection import train_test_split\n",
    "import statsmodels.api as sm\n"
   ]
  },
  {
   "cell_type": "code",
   "execution_count": null,
   "id": "7b4ab934-0457-48d2-ab20-c47657482490",
   "metadata": {},
   "outputs": [],
   "source": [
    "dff = pd.read_csv('data/load.csv', index_col='datetime', parse_dates=['datetime'])\n",
    "\n",
    "# Ensure the index is a datetime object\n",
    "dff.index = pd.to_datetime(dff.index, utc=True)"
   ]
  },
  {
   "cell_type": "code",
   "execution_count": null,
   "id": "35345588-be09-42f3-bf22-4d59a269e76d",
   "metadata": {},
   "outputs": [],
   "source": [
    "# Fit to range\n",
    "df = dff.loc[dff['load_MW'] < 10000].loc[dff['load_MW'] > 2000]"
   ]
  },
  {
   "cell_type": "code",
   "execution_count": null,
   "id": "39f81a26-2509-4601-aa9f-c25375c3aec9",
   "metadata": {},
   "outputs": [],
   "source": [
    "df.head()"
   ]
  },
  {
   "cell_type": "code",
   "execution_count": null,
   "id": "69b040ea-fcce-4d5d-8dc9-1ae16484d4fa",
   "metadata": {},
   "outputs": [],
   "source": [
    "df['load_MW'] = df['load_MW'].diff(periods=12)\n",
    "df.info()"
   ]
  },
  {
   "cell_type": "code",
   "execution_count": null,
   "id": "e8507727-9f0e-4ed8-ae30-6e247b585f92",
   "metadata": {},
   "outputs": [],
   "source": [
    "# Plot the time series\n",
    "plt.figure(figsize=(12, 6))\n",
    "sns.lineplot(x=df.index, y=df['load_MW'])\n",
    "plt.title('Data preview')\n",
    "plt.xlabel('Date')\n",
    "plt.ylabel('Load (MW)')\n",
    "plt.show()"
   ]
  },
  {
   "cell_type": "code",
   "execution_count": null,
   "id": "65528559-b46d-4b4d-a251-effabf38b2a9",
   "metadata": {},
   "outputs": [],
   "source": [
    "# Remove null values\n",
    "dfn = df.copy()\n",
    "dfn['load_MW'] = dfn['load_MW'].bfill()\n",
    "dfn.head()"
   ]
  },
  {
   "cell_type": "code",
   "execution_count": null,
   "id": "222ea1d4-a0e9-4ee2-8b88-21c7dd9e3729",
   "metadata": {},
   "outputs": [],
   "source": [
    "result = seasonal_decompose(dfn['load_MW'], model='additive', period=12)\n",
    "trend = result.trend.dropna()\n",
    "seasonal = result.seasonal.dropna()\n",
    "residual = result.resid.dropna()\n",
    "\n",
    "# Plot the decomposed components\n",
    "plt.figure(figsize=(6,6))\n",
    "\n",
    "plt.subplot(4, 1, 1)\n",
    "plt.plot(dfn['load_MW'], label='Original Series')\n",
    "plt.legend()\n",
    "\n",
    "plt.subplot(4, 1, 2)\n",
    "plt.plot(trend, label='Trend')\n",
    "plt.legend()\n",
    "\n",
    "plt.subplot(4, 1, 3)\n",
    "plt.plot(seasonal, label='Seasonal')\n",
    "plt.legend()\n",
    "\n",
    "plt.subplot(4, 1, 4)\n",
    "plt.plot(residual, label='Residuals')\n",
    "plt.legend()\n",
    "\n",
    "plt.tight_layout()\n",
    "plt.show()\n"
   ]
  },
  {
   "cell_type": "code",
   "execution_count": null,
   "id": "2e971fd3-8690-43f8-b724-5381bad75de0",
   "metadata": {},
   "outputs": [],
   "source": [
    "# Split data into training and testing sets\n",
    "train, test = train_test_split(df, test_size=0.2, random_state=42)"
   ]
  },
  {
   "cell_type": "code",
   "execution_count": null,
   "id": "7b57c22f-af10-440b-ace8-d77ec9be5752",
   "metadata": {},
   "outputs": [],
   "source": [
    "# Define the SARIMA model\n",
    "model = sm.tsa.statespace.SARIMAX(train, order=(1,1,1), seasonal_order=(1,1,1,365))\n",
    "\n",
    "# Fit the model\n",
    "results = model.fit(method='cg')"
   ]
  },
  {
   "cell_type": "code",
   "execution_count": null,
   "id": "4d051e43-8138-47b8-9a66-fb5e63277c9b",
   "metadata": {},
   "outputs": [],
   "source": [
    "# Print the summary of the model\n",
    "results.summary()"
   ]
  },
  {
   "cell_type": "code",
   "execution_count": null,
   "id": "36808503-85cb-4fbd-9aa6-717253b92054",
   "metadata": {},
   "outputs": [],
   "source": [
    "# Define the forecast horizon (e.g., 30 days)\n",
    "forecast_horizon = 30\n",
    "\n",
    "# Use the model to make predictions\n",
    "forecast = results.predict(start=len(train), end=len(train)+forecast_horizon-1, typ='levels')"
   ]
  },
  {
   "cell_type": "code",
   "execution_count": null,
   "id": "38aa4a94-041f-404c-a493-48bef54ca71f",
   "metadata": {},
   "outputs": [],
   "source": [
    "# Plot the forecast\n",
    "plt.figure(figsize=(12, 6))\n",
    "sns.lineplot(x=train.index, y=train['load_MW'], label='Training Data')\n",
    "sns.lineplot(x=forecast.index, y=forecast, label='Forecast')\n",
    "plt.title('SARIMA Forecast')\n",
    "plt.xlabel('Date')\n",
    "plt.ylabel('Load (MW)')\n",
    "plt.legend()\n",
    "plt.show()"
   ]
  }
 ],
 "metadata": {
  "kernelspec": {
   "display_name": "Python 3 (ipykernel)",
   "language": "python",
   "name": "python3"
  },
  "language_info": {
   "codemirror_mode": {
    "name": "ipython",
    "version": 3
   },
   "file_extension": ".py",
   "mimetype": "text/x-python",
   "name": "python",
   "nbconvert_exporter": "python",
   "pygments_lexer": "ipython3",
   "version": "3.11.9"
  }
 },
 "nbformat": 4,
 "nbformat_minor": 5
}
